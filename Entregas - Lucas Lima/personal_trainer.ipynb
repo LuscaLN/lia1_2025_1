{
 "cells": [
  {
   "cell_type": "code",
   "execution_count": 1,
   "metadata": {},
   "outputs": [
    {
     "name": "stderr",
     "output_type": "stream",
     "text": [
      "/home/lucas/LABIA/CrewAI/venv_python312/lib/python3.12/site-packages/tqdm/auto.py:21: TqdmWarning: IProgress not found. Please update jupyter and ipywidgets. See https://ipywidgets.readthedocs.io/en/stable/user_install.html\n",
      "  from .autonotebook import tqdm as notebook_tqdm\n"
     ]
    }
   ],
   "source": [
    "from dotenv import load_dotenv\n",
    "import os\n",
    "import google.generativeai as genai"
   ]
  },
  {
   "cell_type": "code",
   "execution_count": 2,
   "metadata": {},
   "outputs": [],
   "source": [
    "# Carregar variável de ambiente\n",
    "load_dotenv()\n",
    "genai.configure(api_key=os.getenv(\"GOOGLE_API_KEY\"))\n"
   ]
  },
  {
   "cell_type": "code",
   "execution_count": 3,
   "metadata": {},
   "outputs": [],
   "source": [
    "class PersonalTrainerAgent:\n",
    "    \"\"\"\n",
    "    Agente que simula um Personal Trainer.\n",
    "    Ele recebe um objetivo de fitness e uma pergunta do cliente,\n",
    "    e retorna um plano de treino detalhado.\n",
    "    \"\"\"\n",
    "    def __init__(self, model_name=\"models/gemini-1.5-flash\"): \n",
    "        self.model = genai.GenerativeModel(model_name) \n",
    "        print(f\"[PersonalTrainerAgent inicializado (simulado)]\")\n",
    "\n",
    "    def get_workout_plan(self, fitness_goal: str, client_query: str) -> str:\n",
    "        \"\"\"\n",
    "        Gera um plano de treino com base no objetivo e na pergunta do cliente.\n",
    "        \"\"\"\n",
    "        print(f\"[PersonalTrainerAgent] Recebeu pedido para objetivo: \\'{fitness_goal}\\' e pergunta: \\'{client_query}\\'\")\n",
    "        \n",
    "        \n",
    "        prompt = f\"\"\"\n",
    "         Você é um Personal Trainer virtual altamente qualificado e experiente.\n",
    "         Um cliente com o objetivo de \\'{fitness_goal}\\' fez a seguinte pergunta: \\'{client_query}\\'\n",
    "\n",
    "         Por favor, forneça um plano de treino detalhado e instruções para ajudá-lo a atingir esse objetivo.\n",
    "         Seu plano deve incluir:\n",
    "         1.  Exercícios específicos (com nomes claros).\n",
    "         2.  Número de séries e repetições para cada exercício.\n",
    "         3.  Recomendações de frequência semanal para o treino.\n",
    "         4.  Dicas de aquecimento e desaquecimento.\n",
    "         5.  Quaisquer considerações importantes de segurança ou forma.\n",
    "         6.  Seja motivador e profissional.\n",
    "\n",
    "         Se o objetivo for vago (ex: \"ficar em forma\"), peça mais detalhes ou forneça um plano geral equilibrado.\n",
    "         Se o objetivo for muito específico (ex: \"aumentar o supino em 20kg em 1 mês\"), forneça um plano realista e também gerencie as expectativas.\n",
    "        \"\"\"\n",
    "\n",
    "        response = self.model.generate_content(prompt)\n",
    "        return response.text.strip()\n",
    "    \n",
    "    \n",
    "\n",
    "\n",
    "        \n"
   ]
  },
  {
   "cell_type": "code",
   "execution_count": 4,
   "metadata": {},
   "outputs": [],
   "source": [
    "class ClienteAgent:\n",
    "    \"\"\"\n",
    "    Classe que simula um Cliente.\n",
    "    Ela define um objetivo de fitness e pergunta ao Personal Trainer sobre ele.\n",
    "    \"\"\"\n",
    "    def __init__(self, nome=\"Cliente\"):\n",
    "        self.nome = nome\n",
    "        \n",
    "        print(f\"[{self.nome}Agent inicializado (simulado)]\")\n",
    "\n",
    "    def ask_for_workout(self, fitness_goal: str) -> str:\n",
    "        \"\"\"\n",
    "        Formula uma pergunta para o Personal Trainer com base no objetivo de fitness.\n",
    "        \"\"\"\n",
    "        \n",
    "        return f\"Olá Personal Trainer, meu nome é {self.nome} e meu objetivo principal é \\'{fitness_goal}\\'. Quais exercícios você me recomenda para atingir esse objetivo e como devo executá-los de forma detalhada?\"\n"
   ]
  },
  {
   "cell_type": "code",
   "execution_count": null,
   "metadata": {},
   "outputs": [],
   "source": [
    "def run_simulation():\n",
    "    \"\"\"\n",
    "    Executa a simulação da interação entre o Cliente e o Personal Trainer.\n",
    "    \"\"\"\n",
    "    \n",
    "    objetivo_do_cliente = \"perder gordura\"\n",
    "    # objetivo_do_cliente = \"desenvolver peitoral\"\n",
    "    # objetivo_do_cliente = \"aumentar minha flexibilidade\"\n",
    "\n",
    "    print(f\"\\\\n--- Iniciando Simulação: Cliente e Personal Trainer ---\")\n",
    "    print(f\"Objetivo Principal do Cliente: {objetivo_do_cliente}\\\\n\")\n",
    "\n",
    "    # Inicializar os agentes\n",
    "    cliente = ClienteAgent(nome=\"Alex\") \n",
    "    personal_trainer = PersonalTrainerAgent()\n",
    "\n",
    "    \n",
    "    pergunta_do_cliente = cliente.ask_for_workout(objetivo_do_cliente)\n",
    "    print(f\"{cliente.nome} diz: {pergunta_do_cliente}\")\n",
    "\n",
    "    \n",
    "    plano_de_treino = personal_trainer.get_workout_plan(objetivo_do_cliente, pergunta_do_cliente)\n",
    "    print(f\"Personal Trainer diz:\\\\n{plano_de_treino}\\\\n\")\n",
    "    print(f\"--- Simulação Concluída ---\")"
   ]
  },
  {
   "cell_type": "code",
   "execution_count": 8,
   "metadata": {},
   "outputs": [
    {
     "name": "stdout",
     "output_type": "stream",
     "text": [
      "\\n--- Iniciando Simulação: Cliente e Personal Trainer ---\n",
      "Objetivo Principal do Cliente: perder gordura\\n\n",
      "[AlexAgent inicializado (simulado)]\n",
      "[PersonalTrainerAgent inicializado (simulado)]\n",
      "Alex diz: Olá Personal Trainer, meu nome é Alex e meu objetivo principal é 'perder gordura'. Quais exercícios você me recomenda para atingir esse objetivo e como devo executá-los de forma detalhada?\n",
      "[PersonalTrainerAgent] Recebeu pedido para objetivo: 'perder gordura' e pergunta: 'Olá Personal Trainer, meu nome é Alex e meu objetivo principal é 'perder gordura'. Quais exercícios você me recomenda para atingir esse objetivo e como devo executá-los de forma detalhada?'\n",
      "Personal Trainer diz:\\nOlá Alex,\n",
      "\n",
      "É ótimo te conhecer! Perder gordura é um objetivo alcançável com dedicação e um plano estratégico.  Seu foco está no ponto certo: a perda de gordura requer uma combinação de treino de força, exercícios cardiovasculares e uma alimentação adequada (lembre-se que eu sou um Personal Trainer virtual e não posso dar conselhos nutricionais, procure um profissional qualificado para isso).  Este plano foca no treino, que é essencial para o sucesso do seu objetivo.\n",
      "\n",
      "**Frequência Semanal:** 3 vezes por semana, com pelo menos um dia de descanso entre os treinos.\n",
      "\n",
      "**Plano de Treino (3 dias):**\n",
      "\n",
      "**Dia 1: Treino de Força (Superior)**\n",
      "\n",
      "* **Aquecimento (5-10 minutos):**  Cardio leve, como caminhada na esteira ou bicicleta, seguida de exercícios dinâmicos como círculos de braços, rotações de ombros e flexões de tronco.\n",
      "* **Exercícios:**\n",
      "    * **Supino Reto:** 3 séries de 8-12 repetições.  Mantenha os pés apoiados no chão, a coluna apoiada na superfície e desça a barra lentamente até o peito, controlando o movimento. Evite rebotes.\n",
      "    * **Press Militar:** 3 séries de 8-12 repetições.  Mantenha a postura ereta, os ombros relaxados e a barra controlada durante todo o movimento.\n",
      "    * **Remada com Barra:** 3 séries de 8-12 repetições. Mantenha as costas retas, o core engajado e puxe a barra em direção ao abdômen, utilizando os músculos das costas. Evite usar o impulso.\n",
      "    * **Rosca Direta:** 3 séries de 10-15 repetições.  Mantenha os cotovelos próximos ao corpo e controle o movimento, evitando balanços.\n",
      "    * **Extensão de Tríceps com Polia:** 3 séries de 10-15 repetições.  Mantenha os cotovelos próximos à cabeça e foque na extensão do braço, evitando movimentos bruscos.\n",
      "* **Desaquecimento (5-10 minutos):** Alongamento estático, segurando cada alongamento por 20-30 segundos. Foque em músculos do peito, ombros, braços e costas.\n",
      "\n",
      "**Dia 2: Treino Cardiovascular e Abdominal**\n",
      "\n",
      "* **Cardio:** 30-45 minutos de atividade de intensidade moderada a alta.  Escolha algo que você goste: corrida, caminhada rápida, natação, ciclismo, etc.  A intensidade deve ser tal que você consiga manter uma conversa, mas com esforço.\n",
      "* **Abdominais:**\n",
      "    * **Prancha:** 3 séries, segurando por 30-60 segundos cada. Mantenha o corpo reto, do topo da cabeça aos calcanhares.\n",
      "    * **Abdominal Infra:** 3 séries de 15-20 repetições.  Concentre-se no movimento abdominal, evitando puxar o pescoço.\n",
      "    * **Bicicleta:** 3 séries de 15-20 repetições por lado.  Controle o movimento e evite puxar o pescoço.\n",
      "\n",
      "**Dia 3: Treino de Força (Inferior e Core)**\n",
      "\n",
      "* **Aquecimento (5-10 minutos):** Similar ao Dia 1.\n",
      "* **Exercícios:**\n",
      "    * **Agachamento:** 3 séries de 8-12 repetições.  Mantenha as costas retas, o core engajado e os joelhos alinhados com os pés.  Evite agachar muito baixo se sentir desconforto.\n",
      "    * **Mesa Flexora:** 3 séries de 10-15 repetições. Mantenha as costas apoiadas e foque no movimento dos músculos da coxa.\n",
      "    * **Stiff:** 3 séries de 10-15 repetições. Mantenha as costas retas e a curvatura natural da lombar.  O movimento é no quadril.\n",
      "    * **Panturrilha em pé:** 3 séries de 15-20 repetições.  Mantenha a postura ereta e foque na contração da panturrilha.\n",
      "    * **Prancha Lateral:** 3 séries, segurando por 30-60 segundos por lado.  Mantenha o corpo reto.\n",
      "* **Desaquecimento (5-10 minutos):** Similar ao Dia 1, focando nos músculos das pernas e glúteos.\n",
      "\n",
      "\n",
      "**Considerações Importantes:**\n",
      "\n",
      "* **Escuta seu corpo:**  Se sentir dor, pare o exercício.\n",
      "* **Progressão gradual:**  Aumente gradualmente o peso, as repetições ou as séries conforme você ficar mais forte.\n",
      "* **Técnica correta:**  Priorize a técnica correta sobre o peso levantado. Assista vídeos demonstrativos dos exercícios antes de iniciar.\n",
      "* **Hidratação:**  Beba bastante água antes, durante e depois do treino.\n",
      "* **Nutrição:**  Combine este treino com uma dieta saudável e equilibrada para maximizar os resultados.\n",
      "\n",
      "\n",
      "Lembre-se que este é um plano genérico.  Adapte-o às suas necessidades e capacidades individuais.  Se você tiver alguma condição médica preexistente, consulte seu médico antes de iniciar qualquer programa de exercícios.  Continue me atualizando sobre seu progresso e qualquer dúvida que surgir.  Vamos juntos alcançar seu objetivo!\\n\n",
      "--- Simulação Concluída ---\n"
     ]
    }
   ],
   "source": [
    "if __name__ == \"__main__\":\n",
    "    run_simulation() "
   ]
  }
 ],
 "metadata": {
  "kernelspec": {
   "display_name": "venv_python312",
   "language": "python",
   "name": "python3"
  },
  "language_info": {
   "codemirror_mode": {
    "name": "ipython",
    "version": 3
   },
   "file_extension": ".py",
   "mimetype": "text/x-python",
   "name": "python",
   "nbconvert_exporter": "python",
   "pygments_lexer": "ipython3",
   "version": "3.12.10"
  }
 },
 "nbformat": 4,
 "nbformat_minor": 2
}
